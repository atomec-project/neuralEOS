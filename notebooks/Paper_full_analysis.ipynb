{
 "cells": [
  {
   "cell_type": "code",
   "execution_count": null,
   "id": "ee309f5a",
   "metadata": {},
   "outputs": [],
   "source": [
    "%load_ext autoreload\n",
    "%autoreload 2"
   ]
  },
  {
   "cell_type": "code",
   "execution_count": null,
   "id": "cc70840a",
   "metadata": {},
   "outputs": [],
   "source": [
    "import neuralEOS\n",
    "from neuralEOS.output import plot, readfiles\n",
    "import pandas as pd\n",
    "import numpy as np\n",
    "import seaborn as sns\n",
    "import matplotlib.pyplot as plt"
   ]
  },
  {
   "cell_type": "code",
   "execution_count": null,
   "id": "b9f5cef0",
   "metadata": {},
   "outputs": [],
   "source": [
    "params = neuralEOS.Parameters()"
   ]
  },
  {
   "cell_type": "markdown",
   "id": "e905c619",
   "metadata": {},
   "source": [
    "First we are going to analyse correlations between different features and the reference"
   ]
  },
  {
   "cell_type": "code",
   "execution_count": null,
   "id": "73691b5b",
   "metadata": {},
   "outputs": [],
   "source": [
    "df_aa_p = pd.read_csv(params.pressure_path + \"pressure_aa_v6_train_1.csv\")\n",
    "df_aa_p = df_aa_p.drop([\"Unnamed: 0\", \"Unnamed: 0.1\", \"P_class\", \"P_aa_fd_i\", \"P_aa_st_rr_i\",\n",
    "                       \"P_aa_st_tr_i\", \"P_aa_ideal_i\", \"P_aa_vir_corr_i\", \"P_aa_vir_nocorr_i\"], axis=1)\n",
    "df_aa_p.head()"
   ]
  },
  {
   "cell_type": "markdown",
   "id": "fdbdd413",
   "metadata": {},
   "source": [
    "First let's print the feature correlations. This gives Table 1 in the paper."
   ]
  },
  {
   "cell_type": "code",
   "execution_count": null,
   "id": "11deff57",
   "metadata": {},
   "outputs": [],
   "source": [
    "correlations = df_aa_p.corr(method=\"kendall\")\n",
    "feature_importances = np.abs(correlations.P_ref).sort_values(ascending=False)[1:]\n",
    "print(feature_importances)"
   ]
  },
  {
   "cell_type": "markdown",
   "id": "95b4850a",
   "metadata": {},
   "source": [
    "Now we plot Fig. 1, which shows some example correlations of features to the target."
   ]
  },
  {
   "cell_type": "code",
   "execution_count": null,
   "id": "ddd1be10",
   "metadata": {},
   "outputs": [],
   "source": [
    "plot.plot_correlations(df_aa_p.P_ref, df_aa_p.dv_dR, df_aa_p.MIS, latex=True, setsize=True, savefig=True, figname=params.fig_path+\"corr_plot_08_09.png\")"
   ]
  },
  {
   "cell_type": "markdown",
   "id": "004b0a5b",
   "metadata": {},
   "source": [
    "Next, we plot the percentage errors of the neural network models for the inner CV loop, as a function of the number of features (Fig. 2), and summarize the results in Table III."
   ]
  },
  {
   "cell_type": "code",
   "execution_count": null,
   "id": "12339918",
   "metadata": {},
   "outputs": [],
   "source": [
    "cv_summary_list = []\n",
    "for i in range(1,6):\n",
    "    cv_summary_list.append(params.intermediate_data_path + \"inner_cv_output/aa_14_09_cv_iter_\"+str(i)+\"/cv_summary.txt\")\n",
    "df_cv_summary = readfiles.load_inner_cv(cv_summary_list, sep=\", \")"
   ]
  },
  {
   "cell_type": "code",
   "execution_count": null,
   "id": "a7a7cb92",
   "metadata": {},
   "outputs": [],
   "source": [
    "min_features = int(df_cv_summary.n_features.min())\n",
    "max_features = int(df_cv_summary.n_features.max() + 1)\n",
    "feature_range = max_features - min_features\n",
    "x_features = [i for i in range(min_features, max_features)]\n",
    "avg_scores = np.zeros((2, feature_range))\n",
    "for i in range(min_features, max_features):\n",
    "    df_tmp = df_cv_summary[df_cv_summary.n_features == i]\n",
    "    avg_scores[0, i - min_features] = df_tmp.MAPE.mean()\n",
    "    avg_scores[1, i - min_features] = df_tmp.MAE.mean()\n",
    "for i in range(min_features, max_features):\n",
    "    print(i, round(avg_scores[0, i - min_features], 3), round(avg_scores[1, i - min_features], 5))"
   ]
  },
  {
   "cell_type": "code",
   "execution_count": null,
   "id": "4e1a7f74",
   "metadata": {},
   "outputs": [],
   "source": [
    "plot.plot_feature_errs(df_cv_summary,latex=True,setsize=True, savefig=True, figname=params.main_path + \"figs/features_err.png\")"
   ]
  },
  {
   "cell_type": "markdown",
   "id": "640cebce",
   "metadata": {},
   "source": [
    "Next, we plot the percentage errors as a function of temperature and density, for the raw average atom data (Fig. 3)."
   ]
  },
  {
   "cell_type": "code",
   "execution_count": null,
   "id": "16cda960",
   "metadata": {},
   "outputs": [],
   "source": [
    "df_aa = pd.read_csv(\"/home/callow46/neuralEOS/data/processed/raw_pressure/pressure_aa_v6.csv\")\n",
    "plot.plot_error_x_temp_aa(df_aa, size='preprint', pretty=True, save=True, filename=params.fig_path + \"error_temp_aa_v6.png\")"
   ]
  },
  {
   "cell_type": "markdown",
   "id": "25273d7d",
   "metadata": {},
   "source": [
    "Next up, we plot the lowest temperature pressures against the reference (Fig. 4)."
   ]
  },
  {
   "cell_type": "code",
   "execution_count": null,
   "id": "0df543ce",
   "metadata": {},
   "outputs": [],
   "source": [
    "df_aa = df_aa.sort_values(by=[\"temp\", \"rho\"], ascending=True)\n",
    "plot.plot_low_T_errs(df_aa, save=True, filename=params.fig_path + \"He_low_T_errs.png\")"
   ]
  },
  {
   "cell_type": "markdown",
   "id": "ec2efb07",
   "metadata": {},
   "source": [
    "Now we plot the pressures and their errors on a logarithmic scale (Fig. 5)."
   ]
  },
  {
   "cell_type": "code",
   "execution_count": null,
   "id": "549da55c",
   "metadata": {},
   "outputs": [],
   "source": [
    "plot.plot_log_error_aa(df_aa, pretty=True, save=True, filename=params.fig_path+\"aa_log_big_v6.png\")"
   ]
  },
  {
   "cell_type": "markdown",
   "id": "d68a5d32",
   "metadata": {},
   "source": [
    "Here we plot the AA data points that atoMEC wasn't able to calculate."
   ]
  },
  {
   "cell_type": "code",
   "execution_count": null,
   "id": "943e5aee",
   "metadata": {},
   "outputs": [],
   "source": [
    "plot.plot_missing_aa(params.pressure_path + \"pressure_elements.csv\", params.pressure_path + \"pressure_aa_v6.csv\", save=True, filename=params.fig_path + \"aa_missing.png\")"
   ]
  },
  {
   "cell_type": "markdown",
   "id": "6f0bf43c",
   "metadata": {},
   "source": [
    "Now we make Table 5, which is the aggregate error metrics for the AA results over the full temperature range."
   ]
  },
  {
   "cell_type": "code",
   "execution_count": null,
   "id": "7d6f5773",
   "metadata": {},
   "outputs": [],
   "source": [
    "tester = neuralEOS.Testing(params)\n",
    "aa_csv_list = [params.pressure_path + \"pressure_aa_v6.csv\"]\n",
    "for ptype in [\n",
    "    \"P_aa_fd\",\n",
    "    \"P_aa_st_tr\",\n",
    "    \"P_aa_st_rr\",\n",
    "    \"P_aa_vir_corr\",\n",
    "    \"P_aa_vir_nocorr\",\n",
    "    \"P_aa_ideal\",\n",
    "]:\n",
    "    if ptype != \"P_pred\":\n",
    "        results = tester.evaluate(aa_csv_list, ptype, P_ion=\"P_ion\")\n",
    "    else:\n",
    "        results = tester.evaluate(aa_csv_list, ptype)\n",
    "    print(\"Results for \" + ptype)\n",
    "    print(results)"
   ]
  },
  {
   "cell_type": "markdown",
   "id": "5e0848ff",
   "metadata": {},
   "source": [
    "Next we make Table 6, showing the average error metrics for the AA results, when only temperatures above 10 eV are included."
   ]
  },
  {
   "cell_type": "code",
   "execution_count": null,
   "id": "7450a55c",
   "metadata": {},
   "outputs": [],
   "source": [
    "tester = neuralEOS.Testing(params)\n",
    "aa_csv_list = [params.pressure_path + \"pressure_aa_v6.csv\"]\n",
    "for ptype in [\n",
    "    \"P_aa_fd\",\n",
    "    \"P_aa_st_tr\",\n",
    "    \"P_aa_st_rr\",\n",
    "    \"P_aa_vir_corr\",\n",
    "    \"P_aa_vir_nocorr\",\n",
    "    \"P_aa_ideal\",\n",
    "]:\n",
    "    if ptype != \"P_pred\":\n",
    "        results = tester.evaluate(aa_csv_list, ptype, P_ion=\"P_ion\", temp_thresh=10)\n",
    "    else:\n",
    "        results = tester.evaluate(aa_csv_list, ptype)\n",
    "    print(\"Results for \" + ptype)\n",
    "    print(results)"
   ]
  },
  {
   "cell_type": "markdown",
   "id": "40579d29",
   "metadata": {},
   "source": [
    "Next comes the neural network results for the FPEOS database. We first have to load the AA and AA free network predictions."
   ]
  },
  {
   "cell_type": "code",
   "execution_count": null,
   "id": "2ebb27a9",
   "metadata": {},
   "outputs": [],
   "source": [
    "# the aa results\n",
    "filelist_nn_aa = []\n",
    "for i in range(1,6):\n",
    "    filelist_nn_aa.append(params.pressure_path+\"pressure_aa_v6_test_\"+str(i)+\"_pred.csv\")\n",
    "df_aa = readfiles.load_inner_cv(filelist_nn_aa, sep=\",\")\n",
    "\n",
    "# the aa free results\n",
    "filelist_nn_no_aa = []\n",
    "for i in range(1,6):\n",
    "    filelist_nn_no_aa.append(params.pressure_path+\"pressure_v6_test_\"+str(i)+\"_pred.csv\")\n",
    "df_no_aa = readfiles.load_inner_cv(filelist_nn_no_aa, sep=\",\")"
   ]
  },
  {
   "cell_type": "markdown",
   "id": "d10f119e",
   "metadata": {},
   "source": [
    "Plot the mean absolute percentage errors as a function of temperature and density (Fig. 7)"
   ]
  },
  {
   "cell_type": "code",
   "execution_count": null,
   "id": "a96be0ea",
   "metadata": {},
   "outputs": [],
   "source": [
    "plot.plot_error_x_temp_nn(df_aa, df_no_aa, pretty=True, save=True, filename=params.fig_path+\"error_temp_nn.png\")"
   ]
  },
  {
   "cell_type": "markdown",
   "id": "0925bf72",
   "metadata": {},
   "source": [
    "Now we plot the logarithmic errors (Fig. 8)"
   ]
  },
  {
   "cell_type": "code",
   "execution_count": null,
   "id": "84337eee",
   "metadata": {},
   "outputs": [],
   "source": [
    "plot.plot_log_error_nn(df_aa, df_no_aa, save=True, filename=params.fig_path + \"nn_log_errs.png\")"
   ]
  },
  {
   "cell_type": "markdown",
   "id": "fae31c87",
   "metadata": {},
   "source": [
    "Next, the comparison between the AA and neural network results (Fig 9)"
   ]
  },
  {
   "cell_type": "code",
   "execution_count": null,
   "id": "066c8668",
   "metadata": {},
   "outputs": [],
   "source": [
    "plot.plot_nn_aa_errs(df_aa, df_no_aa, pretty=True, save=True, filename=params.fig_path + \"aa_nn_errs_comp.png\")"
   ]
  },
  {
   "cell_type": "markdown",
   "id": "2c4f7148",
   "metadata": {},
   "source": [
    "Next, we create Table 8, which compares the aggregate error metrics for the AA and AA-free neural network models, as well as the finite-difference raw AA pressure."
   ]
  },
  {
   "cell_type": "code",
   "execution_count": null,
   "id": "9da050f8",
   "metadata": {},
   "outputs": [],
   "source": [
    "tester = neuralEOS.Testing(params)\n",
    "\n",
    "for ptype in [\n",
    "    \"P_aa_fd\",\n",
    "    \"P_pred\",\n",
    "]:\n",
    "    if ptype != \"P_pred\":\n",
    "        results = tester.evaluate(filelist_nn_aa, ptype, P_ion=\"P_ion\")\n",
    "    else:\n",
    "        results = tester.evaluate(filelist_nn_aa, ptype)\n",
    "    print(\"Results for \" + ptype)\n",
    "    print(results)"
   ]
  },
  {
   "cell_type": "code",
   "execution_count": null,
   "id": "9f4a3200",
   "metadata": {},
   "outputs": [],
   "source": [
    "tester = neuralEOS.Testing(params)\n",
    "\n",
    "for ptype in [\n",
    "    \"P_pred\",\n",
    "]:\n",
    "    if ptype != \"P_pred\":\n",
    "        results = tester.evaluate(filelist_nn_no_aa, ptype, P_ion=\"P_ion\")\n",
    "    else:\n",
    "        results = tester.evaluate(filelist_nn_no_aa, ptype)\n",
    "    print(\"Results for \" + ptype)\n",
    "    print(results)"
   ]
  },
  {
   "cell_type": "markdown",
   "id": "223c4a5b",
   "metadata": {},
   "source": [
    "In the following, we show the results for the FP-Be database, starting with the raw AA results. First, we compare the distribution in the density / temperature space of the Beryllium results (Fig. 10)."
   ]
  },
  {
   "cell_type": "code",
   "execution_count": null,
   "id": "33fc6647",
   "metadata": {},
   "outputs": [],
   "source": [
    "df_Be = pd.read_csv(params.pressure_path+\"Be_aa_pressure_v2.csv\")\n",
    "plot.plot_dist_comps(df_aa, df_Be, save=True, filename=\"/home/callow46/neuralEOS/figs/Be_FPEOS_dist_comp.png\")"
   ]
  },
  {
   "cell_type": "markdown",
   "id": "4c749708",
   "metadata": {},
   "source": [
    "Now, we compare the MAPEs for the different AA methods (Fig. 11)."
   ]
  },
  {
   "cell_type": "code",
   "execution_count": null,
   "id": "0ff3205e",
   "metadata": {},
   "outputs": [],
   "source": [
    "plot.plot_error_x_temp_aa(df_Be, size='preprint', pretty=True, save=True, filename=params.fig_path + \"error_temp_aa_Be.png\")"
   ]
  },
  {
   "cell_type": "markdown",
   "id": "ca15cc13",
   "metadata": {},
   "source": [
    "Next, we show the MAPEs for the AA and AA-free neural network results."
   ]
  },
  {
   "cell_type": "code",
   "execution_count": null,
   "id": "d4b35e32",
   "metadata": {},
   "outputs": [],
   "source": [
    "df_Be_nn_aa = pd.read_csv(params.pressure_path + \"Be_aa_pressure_v2_pred.csv\")\n",
    "df_Be_nn_no_aa = pd.read_csv(params.pressure_path + \"Be_pressure_pred_v2.csv\")\n",
    "plot.plot_error_x_temp_nn(df_Be_nn_aa, df_Be_nn_no_aa,pretty=True, save=True, filename = \"/home/callow46/neuralEOS/figs/error_temp_nn_Be.png\")"
   ]
  },
  {
   "cell_type": "markdown",
   "id": "0c605a90",
   "metadata": {},
   "source": [
    "We now compare both network predictions with the (uncorrected) virial AA predictions."
   ]
  },
  {
   "cell_type": "code",
   "execution_count": null,
   "id": "b27f3309",
   "metadata": {},
   "outputs": [],
   "source": [
    "# waiting for final Be nn no AA results\n",
    "plot.plot_log_pressure_nn_aa(df_Be.P_ref, df_Be_nn_aa.P_pred, df_Be_nn_no_aa.P_pred, df_Be.P_aa_vir_nocorr+df_Be.P_ion, save=True, filename=\"/home/callow46/neuralEOS/figs/Be_log_nn_aa.png\")"
   ]
  },
  {
   "cell_type": "code",
   "execution_count": null,
   "id": "8677ad92",
   "metadata": {},
   "outputs": [],
   "source": [
    "plot.plot_nn_aa_errs(df_Be_nn_aa, df_Be_nn_no_aa,pretty=True, save=True, filename=\"/home/callow46/neuralEOS/figs/aa_nn_errs_comp_Be.png\")"
   ]
  },
  {
   "cell_type": "code",
   "execution_count": null,
   "id": "f8ed5098",
   "metadata": {},
   "outputs": [],
   "source": [
    "tester = neuralEOS.Testing(params)\n",
    "aa_csv_list = [params.pressure_path + \"Be_aa_pressure_v2_pred.csv\"]\n",
    "for ptype in [\n",
    "    \"P_aa_fd\",\n",
    "    \"P_aa_st_rr\",    \n",
    "    \"P_aa_st_tr\",\n",
    "    \"P_aa_vir_nocorr\",\n",
    "    \"P_aa_vir_corr\",\n",
    "    \"P_aa_ideal\",\n",
    "    \"P_pred\",\n",
    "]:\n",
    "    if ptype != \"P_pred\":\n",
    "        results = tester.evaluate(aa_csv_list, ptype, P_ion=\"P_ion\")\n",
    "    else:\n",
    "        results = tester.evaluate(aa_csv_list, ptype)\n",
    "    print(\"Results for \" + ptype)\n",
    "    print(results)"
   ]
  },
  {
   "cell_type": "code",
   "execution_count": null,
   "id": "2429e096",
   "metadata": {},
   "outputs": [],
   "source": [
    "tester = neuralEOS.Testing(params)\n",
    "aa_csv_list = [params.pressure_path + \"Be_pressure_pred_v2.csv\"]\n",
    "for ptype in [\n",
    "    \"P_pred\"\n",
    "]:\n",
    "    if ptype != \"P_pred\":\n",
    "        results = tester.evaluate(aa_csv_list, ptype, P_ion=\"P_ion\")\n",
    "    else:\n",
    "        results = tester.evaluate(aa_csv_list, ptype)\n",
    "    print(\"Results for \" + ptype)\n",
    "    print(results)"
   ]
  },
  {
   "cell_type": "code",
   "execution_count": null,
   "id": "172abd32",
   "metadata": {},
   "outputs": [],
   "source": [
    "tester = neuralEOS.Testing(params)\n",
    "aa_csv_list = [params.pressure_path + \"Be_aa_pressure_v2_pred.csv\"]\n",
    "for ptype in [\n",
    "    \"P_aa_fd\",\n",
    "    \"P_aa_st_rr\",    \n",
    "    \"P_aa_st_tr\",\n",
    "    \"P_aa_vir_nocorr\",    \n",
    "    \"P_aa_vir_corr\",\n",
    "    \"P_aa_ideal\",\n",
    "    \"P_pred\",\n",
    "]:\n",
    "    if ptype != \"P_pred\":\n",
    "        results = tester.evaluate(aa_csv_list, ptype, P_ion=\"P_ion\", temp_thresh=10)\n",
    "    else:\n",
    "        results = tester.evaluate(aa_csv_list, ptype, temp_thresh=10)\n",
    "    print(\"Results for \" + ptype)\n",
    "    print(results)"
   ]
  },
  {
   "cell_type": "code",
   "execution_count": null,
   "id": "eba98622",
   "metadata": {},
   "outputs": [],
   "source": [
    "tester = neuralEOS.Testing(params)\n",
    "aa_csv_list = [params.pressure_path + \"Be_pressure_pred_v2.csv\"]\n",
    "for ptype in [\n",
    "    \"P_pred\"\n",
    "]:\n",
    "    if ptype != \"P_pred\":\n",
    "        results = tester.evaluate(aa_csv_list, ptype, P_ion=\"P_ion\", temp_thresh=10)\n",
    "    else:\n",
    "        results = tester.evaluate(aa_csv_list, ptype, temp_thresh=10)\n",
    "    print(\"Results for \" + ptype)\n",
    "    print(results)"
   ]
  },
  {
   "cell_type": "markdown",
   "id": "0d0916a5",
   "metadata": {},
   "source": [
    "We analyze the timings for the AA method"
   ]
  },
  {
   "cell_type": "code",
   "execution_count": null,
   "id": "11c8a75f",
   "metadata": {},
   "outputs": [],
   "source": [
    "df_timings = pd.read_csv(params.processed_data_path + \"aa_timings.csv\")"
   ]
  },
  {
   "cell_type": "code",
   "execution_count": null,
   "id": "aa348ac8",
   "metadata": {},
   "outputs": [],
   "source": [
    "# get the median time\n",
    "df_timings.scf_time.quantile([0.25, 0.5, 0.75])"
   ]
  },
  {
   "cell_type": "code",
   "execution_count": null,
   "id": "5825fb31",
   "metadata": {},
   "outputs": [],
   "source": [
    "plot.plot_timings(df_timings, pretty=True, save=True, filename=params.fig_path + \"AA_timings.png\")"
   ]
  },
  {
   "cell_type": "markdown",
   "id": "8ac5aaa5",
   "metadata": {},
   "source": [
    "Here is the analysis of the FPEOS data. This will go in an appendix most likely."
   ]
  },
  {
   "cell_type": "code",
   "execution_count": null,
   "id": "8c343450",
   "metadata": {},
   "outputs": [],
   "source": [
    "# analysis of FPEOS data\n",
    "tester = neuralEOS.Testing(params)\n",
    "fpeos_csv_list_x = []\n",
    "for i in range(5):\n",
    "    fpeos_csv_list_x.append(params.pressure_path + \"FPEOS_interp_x_\"+str(i)+\".csv\")\n",
    "for ptype in [\n",
    "    \"P_pred\"\n",
    "]:\n",
    "    if ptype != \"P_pred\":\n",
    "        results = tester.evaluate(fpeos_csv_list_x, ptype)\n",
    "    else:\n",
    "        results = tester.evaluate(fpeos_csv_list_x, ptype)\n",
    "    print(\"Results for \" + ptype)\n",
    "    print(results)"
   ]
  },
  {
   "cell_type": "code",
   "execution_count": null,
   "id": "9ed1c538",
   "metadata": {},
   "outputs": [],
   "source": [
    "# analysis of FPEOS data\n",
    "tester = neuralEOS.Testing(params)\n",
    "fpeos_csv_list_y = []\n",
    "for i in range(5):\n",
    "    fpeos_csv_list_y.append(params.pressure_path + \"FPEOS_interp_y_\"+str(i)+\".csv\")\n",
    "for ptype in [\n",
    "    \"P_pred\"\n",
    "]:\n",
    "    if ptype != \"P_pred\":\n",
    "        results = tester.evaluate(fpeos_csv_list_y, ptype)\n",
    "    else:\n",
    "        results = tester.evaluate(fpeos_csv_list_y, ptype)\n",
    "    print(\"Results for \" + ptype)\n",
    "    print(results)"
   ]
  },
  {
   "cell_type": "code",
   "execution_count": null,
   "id": "0f25fcaf",
   "metadata": {},
   "outputs": [],
   "source": [
    "df_fpeos_x = readfiles.load_inner_cv(fpeos_csv_list_x, sep=\",\")\n",
    "df_fpeos_y = readfiles.load_inner_cv(fpeos_csv_list_y, sep=\",\")"
   ]
  },
  {
   "cell_type": "code",
   "execution_count": null,
   "id": "327977d1",
   "metadata": {},
   "outputs": [],
   "source": [
    "plot.plot_fpeos_errs(df_fpeos_x, df_fpeos_y, pretty=True, save=True, filename=params.fig_path + \"FPEOS_interp_plot.png\")"
   ]
  },
  {
   "cell_type": "code",
   "execution_count": null,
   "id": "8db39afc",
   "metadata": {},
   "outputs": [],
   "source": []
  },
  {
   "cell_type": "code",
   "execution_count": null,
   "id": "40d44105",
   "metadata": {},
   "outputs": [],
   "source": []
  }
 ],
 "metadata": {
  "kernelspec": {
   "display_name": "neuralEOS",
   "language": "python",
   "name": "neuraleos"
  },
  "language_info": {
   "codemirror_mode": {
    "name": "ipython",
    "version": 3
   },
   "file_extension": ".py",
   "mimetype": "text/x-python",
   "name": "python",
   "nbconvert_exporter": "python",
   "pygments_lexer": "ipython3",
   "version": "3.8.17"
  }
 },
 "nbformat": 4,
 "nbformat_minor": 5
}
