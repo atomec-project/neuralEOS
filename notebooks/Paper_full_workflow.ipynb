{
 "cells": [
  {
   "cell_type": "code",
   "execution_count": null,
   "metadata": {},
   "outputs": [],
   "source": [
    "%load_ext autoreload\n",
    "%autoreload 2"
   ]
  },
  {
   "cell_type": "code",
   "execution_count": null,
   "metadata": {},
   "outputs": [],
   "source": [
    "import neuralEOS\n",
    "import pandas as pd\n",
    "from datetime import datetime"
   ]
  },
  {
   "cell_type": "code",
   "execution_count": null,
   "metadata": {},
   "outputs": [],
   "source": [
    "params = neuralEOS.Parameters()"
   ]
  },
  {
   "cell_type": "markdown",
   "metadata": {},
   "source": [
    "First we set up the parameters that are needed for the generation of the AA files."
   ]
  },
  {
   "cell_type": "code",
   "execution_count": null,
   "metadata": {},
   "outputs": [],
   "source": [
    "# whether to run the atoMEC calculations\n",
    "params.submit_aa_jobs = True\n",
    "\n",
    "# where to put the processed file of FPEOS data\n",
    "params.pressure_file = params.pressure_path + \"pressure_elements.csv\"\n",
    "\n",
    "# for this example notebook, we generate a sample dataset\n",
    "# if you want to run the full dataset, comment out the following line\n",
    "params.n_aa_samples = 400\n",
    "\n",
    "# optional parameter: where FPEOS datasets are stored\n",
    "# params.fpeos_data_path = <path_to_fpeos_data>\n",
    "\n",
    "# optional parameter: where to put the AA i/o files\n",
    "params.aa_dir = params.intermediate_data_path + \"atoMEC_inputs_v2/\"\n",
    "\n",
    "# optional parameter: in case not all elements are desired\n",
    "# params.element_list = [\"Al\"]\n",
    "\n",
    "aa_generator = neuralEOS.GenerateAA(params)"
   ]
  },
  {
   "cell_type": "markdown",
   "metadata": {},
   "source": [
    "First, we convert the FPEOS data (stored in various .txt files) into a more useable format."
   ]
  },
  {
   "cell_type": "code",
   "execution_count": null,
   "metadata": {},
   "outputs": [],
   "source": [
    "aa_generator.extract_raw_fpeos()"
   ]
  },
  {
   "cell_type": "markdown",
   "metadata": {},
   "source": [
    "Next, we set up the atoMEC and slurm input files (and run them if desired).\n",
    "\n",
    "Note that this generates input files from `templates/conv_template.py`. In this template, there is a parameter `\"ngrid_min\"`, which is the initial number of grid points when running convergence tests. To generate the atoMEC data in the paper, we first ran all calculations with this number set to `500`. However, some calculations need a higher initial value of `ngrid`. We therefore ran another pass-through for all the failed calculations with `\"ngrid_min\"=1000`. But for this sample script, we don't bother with this second pass-through."
   ]
  },
  {
   "cell_type": "code",
   "execution_count": null,
   "metadata": {},
   "outputs": [],
   "source": [
    "aa_generator.make_all_files()"
   ]
  },
  {
   "cell_type": "markdown",
   "metadata": {},
   "source": [
    "Now we extract the data from the atoMEC generated output files. First, some more relevant parameters."
   ]
  },
  {
   "cell_type": "code",
   "execution_count": null,
   "metadata": {},
   "outputs": [],
   "source": [
    "# where to store the pressure file with output AA data\n",
    "params.aa_pressure_file = params.pressure_path + \"paper_sample/pressure_aa.csv\"\n",
    "\n",
    "aa_extractor = neuralEOS.ExtractAA(params)"
   ]
  },
  {
   "cell_type": "code",
   "execution_count": null,
   "metadata": {},
   "outputs": [],
   "source": [
    "aa_extractor.extract_aa_features()"
   ]
  },
  {
   "cell_type": "markdown",
   "metadata": {},
   "source": [
    "Next, we pre-process the AA data. This involves two steps: \n",
    "1. The data is grouped into ten different bins based on the reference pressure for that data point.\n",
    "2. The data is split randomly into 5 training and test sets. Although the splitting is random, it is done using a stratified approach, meaning that each pair of training and test sets contains the same proportion of data from each bin."
   ]
  },
  {
   "cell_type": "code",
   "execution_count": null,
   "metadata": {},
   "outputs": [],
   "source": [
    "# name of the pressure file with bins included\n",
    "params.pressure_bins_file = params.pressure_path + \"paper_sample/pressure_aa_bins.csv\"\n",
    "params.aa_pressure_file = params.pressure_path + \"paper_sample/pressure_aa.csv\"\n",
    "preprocess = neuralEOS.Preprocess(params)"
   ]
  },
  {
   "cell_type": "code",
   "execution_count": null,
   "metadata": {},
   "outputs": [],
   "source": [
    "preprocess.cv_split()"
   ]
  },
  {
   "cell_type": "markdown",
   "metadata": {},
   "source": [
    "In the next stage, we train the AA networks. First, we define the parameters used for the training."
   ]
  },
  {
   "cell_type": "code",
   "execution_count": null,
   "metadata": {},
   "outputs": [],
   "source": [
    "params.elements_only = True # don't use mixtures\n",
    "params.n_hyperopt_trials = 5 # number of hyperparam trials\n",
    "params.n_cv_repeats = 1 # number of repeats in inner CV loop\n",
    "params.n_cv_inner = 3 # number of inner CV loops\n",
    "params.n_feature_trials = 5\n",
    "params.feature_list_aa = [\n",
    "    \"P_aa_st_tr_i\",\n",
    "    \"P_aa_st_rr_i\",\n",
    "    \"P_aa_ideal_i\",\n",
    "    \"P_aa_vir_corr_i\",\n",
    "    \"P_aa_vir_nocorr_i\",\n",
    "    \"P_aa_fd_i\",\n",
    "    \"dn_dR\",\n",
    "    \"dv_dR\",\n",
    "    \"n_R\",\n",
    "    \"temp\",\n",
    "    \"rho_Z\",\n",
    "    \"rho\",\n",
    "    \"vol\",\n",
    "    \"MIS\",\n",
    "]\n",
    "params.sum_e_ion_pressures = False # don't sum electron with ion pressures\n",
    "params.n_features_min = 3 # minimum number of features\n",
    "params.n_features_max = 8 # maximum number of features\n",
    "params.slurm_train_file = params.scripts_dir + \"/train_hyper_aa.slurm\"\n",
    "training_file_prefix = params.pressure_path + \"paper_sample/pressure_aa_train_\"\n",
    "\n",
    "# where to store the results from the hyperopt runs\n",
    "# we use today's date to store them\n",
    "savedir_prefix = params.cv_inner_path + \"aa_14_11_23_cv_iter_\""
   ]
  },
  {
   "cell_type": "code",
   "execution_count": null,
   "metadata": {},
   "outputs": [],
   "source": [
    "# set up the training object\n",
    "trainer = neuralEOS.Training(params)"
   ]
  },
  {
   "cell_type": "code",
   "execution_count": null,
   "metadata": {},
   "outputs": [],
   "source": [
    "trainer.submit_inner_training_jobs(training_file_prefix, savedir_prefix, True)"
   ]
  },
  {
   "cell_type": "markdown",
   "metadata": {},
   "source": [
    "Now we are going to extract the results of the inner loop training"
   ]
  },
  {
   "cell_type": "code",
   "execution_count": null,
   "metadata": {},
   "outputs": [],
   "source": [
    "for i_cv in range(1, 6):\n",
    "    savedir = savedir_prefix + str(i_cv) + \"/\"\n",
    "    trainer.gather_cv_scores(savedir, filename_out=savedir+\"cv_summary.txt\")"
   ]
  },
  {
   "cell_type": "markdown",
   "metadata": {},
   "source": [
    "Now, we train the 3 best models on the full inner CV loops."
   ]
  },
  {
   "cell_type": "code",
   "execution_count": null,
   "metadata": {},
   "outputs": [],
   "source": [
    "model_file_prefix = params.model_path +  \"aa_14_11_23_cv_iter_\""
   ]
  },
  {
   "cell_type": "code",
   "execution_count": null,
   "metadata": {},
   "outputs": [],
   "source": [
    "trainer.submit_outer_training_jobs(training_file_prefix, savedir_prefix, model_file_prefix, True)"
   ]
  },
  {
   "cell_type": "markdown",
   "metadata": {},
   "source": [
    "Now, we are going to test our trained models on the outer CV loops."
   ]
  },
  {
   "cell_type": "code",
   "execution_count": null,
   "metadata": {},
   "outputs": [],
   "source": [
    "# prefix for test files\n",
    "test_file_prefix = params.pressure_path + \"paper_sample/pressure_aa_test_\"\n",
    "\n",
    "# set up the tester object\n",
    "tester = neuralEOS.Testing(params)"
   ]
  },
  {
   "cell_type": "code",
   "execution_count": null,
   "metadata": {},
   "outputs": [],
   "source": [
    "# make predictions on the list of test files\n",
    "test_csv_list = []\n",
    "for i_cv in range(1,6):\n",
    "    test_csv_in = test_file_prefix + str(i_cv) + \".csv\"\n",
    "    test_csv_out = test_file_prefix + str(i_cv) + \"_pred.csv\"\n",
    "    model_file_list = []\n",
    "    for k in range(3):\n",
    "        model_file = model_file_prefix + str(i_cv) + \"_\"+str(k)+\".pkl\"\n",
    "        model_file_list.append(model_file)\n",
    "    tester.predict(test_csv_in, model_file_list, output_file=test_csv_out)\n",
    "    test_csv_list.append(test_csv_out)"
   ]
  },
  {
   "cell_type": "code",
   "execution_count": null,
   "metadata": {},
   "outputs": [],
   "source": [
    "# summarize and show the results\n",
    "for ptype in [\n",
    "    \"P_pred\",\n",
    "    \"P_aa_fd\",\n",
    "    \"P_aa_st_tr\",\n",
    "    \"P_aa_st_rr\",\n",
    "    \"P_aa_vir_corr\",\n",
    "    \"P_aa_vir_nocorr\",\n",
    "    \"P_aa_ideal\",\n",
    "]:\n",
    "    if ptype != \"P_pred\":\n",
    "        results = tester.evaluate(test_csv_list, ptype, P_ion=\"P_ion\")\n",
    "    else:\n",
    "        results = tester.evaluate(test_csv_list, ptype)\n",
    "    print(\"Results for \" + ptype)\n",
    "    print(results)"
   ]
  },
  {
   "cell_type": "markdown",
   "metadata": {},
   "source": [
    "The above workflow enables us to estimate the generalization error for our neural network trained with AA features. In the following steps, we train the final model. This uses all the available data for training, since there is no need to hold back any test data."
   ]
  },
  {
   "cell_type": "code",
   "execution_count": null,
   "metadata": {},
   "outputs": [],
   "source": [
    "savedir_final = params.cv_inner_path + \"aa_14_11_23_final_models/\"\n",
    "training_file = params.pressure_bins_file"
   ]
  },
  {
   "cell_type": "code",
   "execution_count": null,
   "metadata": {},
   "outputs": [],
   "source": [
    "trainer.submit_final_training_hyperopt_jobs(training_file, savedir_final,True)"
   ]
  },
  {
   "cell_type": "code",
   "execution_count": null,
   "metadata": {},
   "outputs": [],
   "source": [
    "# gather the scores\n",
    "trainer.gather_cv_scores(savedir_final, filename_out=savedir_final+\"cv_summary.txt\")"
   ]
  },
  {
   "cell_type": "markdown",
   "metadata": {},
   "source": [
    "Now we have the hyperparameters of the best performing models, we train the final models with those hyperparameters."
   ]
  },
  {
   "cell_type": "code",
   "execution_count": null,
   "metadata": {},
   "outputs": [],
   "source": [
    "model_file_prefix = params.model_path +  \"aa_14_11_23_final_model_\""
   ]
  },
  {
   "cell_type": "code",
   "execution_count": null,
   "metadata": {},
   "outputs": [],
   "source": [
    "trainer.submit_final_outer_training_jobs(training_file, savedir_final, model_file_prefix, True)"
   ]
  },
  {
   "cell_type": "markdown",
   "metadata": {},
   "source": [
    "We have now trained the final models. We shall test these on the FP-Be dataset. First, we extract the data from the raw input files into a more usable format."
   ]
  },
  {
   "cell_type": "code",
   "execution_count": null,
   "metadata": {},
   "outputs": [],
   "source": [
    "params.Be_pressure_file = params.pressure_path + \"paper_sample/pressure_Be.csv\""
   ]
  },
  {
   "cell_type": "code",
   "execution_count": null,
   "metadata": {},
   "outputs": [],
   "source": [
    "aa_generator.extract_raw_fp_Be()"
   ]
  },
  {
   "cell_type": "markdown",
   "metadata": {},
   "source": [
    "Now we run the atoMEC calculations for the FP-Be dataset. We will use a sample of 100 points."
   ]
  },
  {
   "cell_type": "code",
   "execution_count": null,
   "metadata": {},
   "outputs": [],
   "source": [
    "params.n_aa_samples = 100\n",
    "params.element_list = [\"Be\"]\n",
    "#aa_generator.make_all_files(from_Hu=True)"
   ]
  },
  {
   "cell_type": "code",
   "execution_count": null,
   "metadata": {},
   "outputs": [],
   "source": [
    "# extract the Be data\n",
    "aa_extractor = neuralEOS.ExtractAA(params)\n",
    "params.aa_Be_pressure_file = params.pressure_path + \"paper_sample/pressure_aa_Be.csv\"\n",
    "aa_extractor.extract_aa_features(from_Hu=True)"
   ]
  },
  {
   "cell_type": "markdown",
   "metadata": {},
   "source": [
    "Now, using the final trained models, we make predictions on the Beryllium data."
   ]
  },
  {
   "cell_type": "code",
   "execution_count": null,
   "metadata": {},
   "outputs": [],
   "source": [
    "model_file_prefix = params.model_path +  \"aa_14_11_23_final_model_\"\n",
    "model_file_list = []\n",
    "for k in range(3):\n",
    "    model_file = model_file_prefix + str(k) + \".pkl\"\n",
    "    model_file_list.append(model_file)\n",
    "\n",
    "test_csv_in = params.pressure_path + \"paper_sample/aa_pressure_Be.csv\"\n",
    "test_csv_out = params.pressure_path + \"paper_sample/aa_pressure_Be_pred.csv\"\n",
    "tester.predict(test_csv_in, model_file_list, output_file=test_csv_out)"
   ]
  },
  {
   "cell_type": "code",
   "execution_count": null,
   "metadata": {},
   "outputs": [],
   "source": [
    "# summarize the results\n",
    "for ptype in [\n",
    "    \"P_pred\",\n",
    "    \"P_aa_fd\",\n",
    "    \"P_aa_st_tr\",\n",
    "    \"P_aa_st_rr\",\n",
    "    \"P_aa_vir_corr\",\n",
    "    \"P_aa_vir_nocorr\",\n",
    "    \"P_aa_ideal\",\n",
    "]:\n",
    "    if ptype != \"P_pred\":\n",
    "        results = tester.evaluate(test_csv_out, ptype, P_ion=\"P_ion\")\n",
    "    else:\n",
    "        results = tester.evaluate(test_csv_out, ptype)\n",
    "    print(\"Results for \" + ptype)\n",
    "    print(results)\n"
   ]
  },
  {
   "cell_type": "markdown",
   "metadata": {},
   "source": [
    "This completes the training and evaluation of the neural network trained *with* AA features as input parameters. In the following sections, we follow the same steps, but this time for the network trained *without* AA features."
   ]
  },
  {
   "cell_type": "code",
   "execution_count": null,
   "metadata": {},
   "outputs": [],
   "source": [
    "params.elements_only = True # don't use mixtures\n",
    "params.n_hyperopt_trials = 5 # number of hyperparam trials\n",
    "params.n_cv_repeats = 1 # number of repeats in inner CV loop\n",
    "params.n_cv_inner = 3 # number of inner CV loops\n",
    "params.n_feature_trials = 5\n",
    "params.feature_list_no_aa = [\n",
    "    \"temp\",\n",
    "    \"rho_Z\",\n",
    "    \"rho\",\n",
    "    \"vol\",\n",
    "    \"P_ion\",\n",
    "]\n",
    "params.sum_e_ion_pressures = False # don't sum electron with ion pressures\n",
    "params.n_features_min = 3 # minimum number of features\n",
    "params.n_features_max = 5 # maximum number of features\n",
    "training_file_prefix = params.pressure_path + \"paper_sample/pressure_aa_train_\"\n",
    "\n",
    "# where to store the results from the hyperopt runs\n",
    "# we use today's date to store them\n",
    "savedir_prefix = params.cv_inner_path + \"10_11_23_cv_iter_\""
   ]
  },
  {
   "cell_type": "code",
   "execution_count": null,
   "metadata": {},
   "outputs": [],
   "source": [
    "trainer = neuralEOS.Training(params)"
   ]
  },
  {
   "cell_type": "code",
   "execution_count": null,
   "metadata": {},
   "outputs": [],
   "source": [
    "trainer.submit_inner_training_jobs(training_file_prefix, savedir_prefix, False)"
   ]
  },
  {
   "cell_type": "markdown",
   "metadata": {},
   "source": [
    "Extract the results from the inner loop training."
   ]
  },
  {
   "cell_type": "code",
   "execution_count": null,
   "metadata": {},
   "outputs": [],
   "source": [
    "for i_cv in range(1, 6):\n",
    "    savedir = savedir_prefix + str(i_cv) + \"/\"\n",
    "    trainer.gather_cv_scores(savedir, filename_out=savedir+\"cv_summary.txt\")"
   ]
  },
  {
   "cell_type": "code",
   "execution_count": null,
   "metadata": {},
   "outputs": [],
   "source": [
    "model_file_prefix = params.model_path +  \"10_11_23_cv_iter_\"\n",
    "params.scripts_dir = \"/home/callow46/neuralEOS//scripts/aa_workflow_example/\""
   ]
  },
  {
   "cell_type": "code",
   "execution_count": null,
   "metadata": {},
   "outputs": [],
   "source": [
    "trainer.submit_outer_training_jobs(training_file_prefix, savedir_prefix, model_file_prefix, False)"
   ]
  },
  {
   "cell_type": "code",
   "execution_count": null,
   "metadata": {},
   "outputs": [],
   "source": [
    "# prefix for test files\n",
    "test_file_prefix = params.pressure_path + \"paper_sample/pressure_aa_test_\"\n",
    "\n",
    "# set up the tester object\n",
    "tester = neuralEOS.Testing(params)"
   ]
  },
  {
   "cell_type": "code",
   "execution_count": null,
   "metadata": {},
   "outputs": [],
   "source": [
    "# make predictions on the list of test files\n",
    "test_csv_list = []\n",
    "for i_cv in range(1,6):\n",
    "    test_csv_in = test_file_prefix + str(i_cv) + \".csv\"\n",
    "    test_csv_out =  params.pressure_path + \"paper_sample/pressure_no_aa_test_\" + str(i_cv) + \"_pred.csv\"\n",
    "    model_file_list = []\n",
    "    for k in range(3):\n",
    "        model_file = model_file_prefix + str(i_cv) + \"_\"+str(k)+\".pkl\"\n",
    "        model_file_list.append(model_file)\n",
    "    tester.predict(test_csv_in, model_file_list, output_file=test_csv_out)\n",
    "    test_csv_list.append(test_csv_out)"
   ]
  },
  {
   "cell_type": "code",
   "execution_count": null,
   "metadata": {},
   "outputs": [],
   "source": [
    "# summarize and show the results\n",
    "for ptype in [\n",
    "    \"P_pred\",\n",
    "    \"P_aa_fd\",\n",
    "    \"P_aa_st_tr\",\n",
    "    \"P_aa_st_rr\",\n",
    "    \"P_aa_vir_corr\",\n",
    "    \"P_aa_vir_nocorr\",\n",
    "    \"P_aa_ideal\",\n",
    "]:\n",
    "    if ptype != \"P_pred\":\n",
    "        results = tester.evaluate(test_csv_list, ptype, P_ion=\"P_ion\")\n",
    "    else:\n",
    "        results = tester.evaluate(test_csv_list, ptype)\n",
    "    print(\"Results for \" + ptype)\n",
    "    print(results)"
   ]
  },
  {
   "cell_type": "code",
   "execution_count": null,
   "metadata": {},
   "outputs": [],
   "source": [
    "savedir_final = params.cv_inner_path + \"10_11_23_final_models/\"\n",
    "training_file = params.pressure_bins_file\n",
    "#trainer.submit_final_training_hyperopt_jobs(training_file, savedir_final,False)"
   ]
  },
  {
   "cell_type": "code",
   "execution_count": null,
   "metadata": {},
   "outputs": [],
   "source": [
    "# gather the scores\n",
    "trainer.gather_cv_scores(savedir_final, filename_out=savedir_final+\"cv_summary.txt\")"
   ]
  },
  {
   "cell_type": "code",
   "execution_count": null,
   "metadata": {},
   "outputs": [],
   "source": [
    "model_file_prefix = params.model_path +  \"10_11_23_final_model_\"\n",
    "trainer.submit_final_outer_training_jobs(training_file, savedir_final, model_file_prefix, False)"
   ]
  },
  {
   "cell_type": "code",
   "execution_count": null,
   "metadata": {},
   "outputs": [],
   "source": [
    "model_file_prefix = params.model_path +  \"10_11_23_final_model_\"\n",
    "model_file_list = []\n",
    "for k in range(3):\n",
    "    model_file = model_file_prefix + str(k) + \".pkl\"\n",
    "    model_file_list.append(model_file)\n",
    "\n",
    "test_csv_in = params.pressure_path + \"paper_sample/aa_pressure_Be.csv\"\n",
    "test_csv_out = params.pressure_path + \"paper_sample/no_aa_pressure_Be_pred.csv\"\n",
    "tester.predict(test_csv_in, model_file_list, output_file=test_csv_out)"
   ]
  },
  {
   "cell_type": "code",
   "execution_count": null,
   "metadata": {},
   "outputs": [],
   "source": [
    "# summarize the results\n",
    "for ptype in [\n",
    "    \"P_pred\",\n",
    "    \"P_aa_fd\",\n",
    "    \"P_aa_st_tr\",\n",
    "    \"P_aa_st_rr\",\n",
    "    \"P_aa_vir_corr\",\n",
    "    \"P_aa_vir_nocorr\",\n",
    "    \"P_aa_ideal\",\n",
    "]:\n",
    "    if ptype != \"P_pred\":\n",
    "        results = tester.evaluate(test_csv_out, ptype, P_ion=\"P_ion\")\n",
    "    else:\n",
    "        results = tester.evaluate(test_csv_out, ptype)\n",
    "    print(\"Results for \" + ptype)\n",
    "    print(results)\n"
   ]
  },
  {
   "cell_type": "code",
   "execution_count": null,
   "metadata": {},
   "outputs": [],
   "source": []
  }
 ],
 "metadata": {
  "kernelspec": {
   "display_name": "neuralEOS (CPU)",
   "language": "python",
   "name": "neuraleos_cpu"
  },
  "language_info": {
   "codemirror_mode": {
    "name": "ipython",
    "version": 3
   },
   "file_extension": ".py",
   "mimetype": "text/x-python",
   "name": "python",
   "nbconvert_exporter": "python",
   "pygments_lexer": "ipython3",
   "version": "3.11.5"
  }
 },
 "nbformat": 4,
 "nbformat_minor": 4
}
